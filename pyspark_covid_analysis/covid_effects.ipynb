{
 "cells": [
  {
   "cell_type": "code",
   "execution_count": 49,
   "metadata": {},
   "outputs": [],
   "source": [
    "import findspark\n",
    "findspark.init()"
   ]
  },
  {
   "cell_type": "markdown",
   "metadata": {},
   "source": [
    "# Import Modules"
   ]
  },
  {
   "cell_type": "code",
   "execution_count": 50,
   "metadata": {
    "scrolled": true
   },
   "outputs": [],
   "source": [
    "from pyspark.sql import SparkSession\n",
    "from pyspark.sql.types import StructType, StructField\n",
    "from pyspark.sql.types import DateType, IntegerType\n",
    "\n",
    "spark = SparkSession.builder.getOrCreate()\n",
    "# df = spark.sql(\"select 'spark' as hello \")\n",
    "# df.show()"
   ]
  },
  {
   "cell_type": "markdown",
   "metadata": {},
   "source": [
    "# Load and Analyze the data"
   ]
  },
  {
   "cell_type": "code",
   "execution_count": 51,
   "metadata": {},
   "outputs": [],
   "source": [
    "covid_schema = StructType([StructField('Date', DateType(), True),\n",
    "                           StructField('State', StringType(), True),\n",
    "                           StructField('Region', StringType(), True),\n",
    "                           StructField('Confirmed', IntegerType(), True),\n",
    "                           StructField('Deaths', IntegerType(), True),\n",
    "                           StructField('Recovered', IntegerType(), True)])"
   ]
  },
  {
   "cell_type": "code",
   "execution_count": 53,
   "metadata": {},
   "outputs": [],
   "source": [
    "covid_df = spark.read.csv('covid_19_data.csv', header=True, schema=covid_schema)"
   ]
  },
  {
   "cell_type": "code",
   "execution_count": 79,
   "metadata": {},
   "outputs": [],
   "source": [
    "csv_df = spark.read.csv('covid_19_data.csv', header=True)"
   ]
  },
  {
   "cell_type": "code",
   "execution_count": 80,
   "metadata": {},
   "outputs": [
    {
     "name": "stdout",
     "output_type": "stream",
     "text": [
      "+---------+-----+-------------------+---------+------+---------+\n",
      "|     Date|State|             Region|Confirmed|Deaths|Recovered|\n",
      "+---------+-----+-------------------+---------+------+---------+\n",
      "|4/29/2020| null|        Afghanistan|     1939|    60|      252|\n",
      "|4/29/2020| null|            Albania|      766|    30|      455|\n",
      "|4/29/2020| null|            Algeria|     3848|   444|     1702|\n",
      "|4/29/2020| null|            Andorra|      743|    42|      423|\n",
      "|4/29/2020| null|             Angola|       27|     2|        7|\n",
      "|4/29/2020| null|Antigua and Barbuda|       24|     3|       11|\n",
      "|4/29/2020| null|          Argentina|     4285|   214|     1192|\n",
      "|4/29/2020| null|            Armenia|     1932|    30|      900|\n",
      "|4/29/2020| null|            Austria|    15402|   580|    12779|\n",
      "|4/29/2020| null|         Azerbaijan|     1766|    23|     1267|\n",
      "|4/29/2020| null|            Bahamas|       80|    11|       23|\n",
      "|4/29/2020| null|            Bahrain|     2921|     8|     1455|\n",
      "|4/29/2020| null|         Bangladesh|     7103|   163|      150|\n",
      "|4/29/2020| null|           Barbados|       80|     7|       39|\n",
      "|4/29/2020| null|            Belarus|    13181|    84|     2072|\n",
      "|4/29/2020| null|            Belgium|    47859|  7501|    11283|\n",
      "|4/29/2020| null|             Belize|       18|     2|        9|\n",
      "|4/29/2020| null|              Benin|       64|     1|       33|\n",
      "|4/29/2020| null|             Bhutan|        7|     0|        5|\n",
      "|4/29/2020| null|            Bolivia|     1110|    59|      117|\n",
      "+---------+-----+-------------------+---------+------+---------+\n",
      "only showing top 20 rows\n",
      "\n"
     ]
    }
   ],
   "source": [
    "csv_df.show()"
   ]
  },
  {
   "cell_type": "code",
   "execution_count": 55,
   "metadata": {
    "scrolled": true
   },
   "outputs": [
    {
     "name": "stdout",
     "output_type": "stream",
     "text": [
      "root\n",
      " |-- Date: string (nullable = true)\n",
      " |-- State: string (nullable = true)\n",
      " |-- Region: string (nullable = true)\n",
      " |-- Confirmed: string (nullable = true)\n",
      " |-- Deaths: string (nullable = true)\n",
      " |-- Recovered: string (nullable = true)\n",
      "\n"
     ]
    }
   ],
   "source": [
    "csv_df.printSchema()"
   ]
  },
  {
   "cell_type": "markdown",
   "metadata": {},
   "source": [
    "# Answers"
   ]
  },
  {
   "cell_type": "markdown",
   "metadata": {},
   "source": [
    "## Q1. Show number of confiremed, death and recovered cases"
   ]
  },
  {
   "cell_type": "code",
   "execution_count": 57,
   "metadata": {},
   "outputs": [],
   "source": [
    "df1 = covid_df.select(\"Region\",\"Confirmed\",\"Deaths\",\"Recovered\").groupBy(\"Region\").sum(\"Confirmed\",\"Deaths\",\"Recovered\").withColumnRenamed(\"sum(Confirmed)\",\"Total_Cases\").withColumnRenamed(\"sum(Deaths)\",\"Death_Cases\").withColumnRenamed(\"sum(Recovered)\",\"Recovered_Cases\").orderBy(\"Region\")"
   ]
  },
  {
   "cell_type": "code",
   "execution_count": 58,
   "metadata": {},
   "outputs": [
    {
     "name": "stdout",
     "output_type": "stream",
     "text": [
      "+-------------------+-----------+-----------+---------------+\n",
      "|             Region|Total_Cases|Death_Cases|Recovered_Cases|\n",
      "+-------------------+-----------+-----------+---------------+\n",
      "|        Afghanistan|       1939|         60|            252|\n",
      "|            Albania|        766|         30|            455|\n",
      "|            Algeria|       3848|        444|           1702|\n",
      "|            Andorra|        743|         42|            423|\n",
      "|             Angola|         27|          2|              7|\n",
      "|Antigua and Barbuda|         24|          3|             11|\n",
      "|          Argentina|       4285|        214|           1192|\n",
      "|            Armenia|       1932|         30|            900|\n",
      "|          Australia|       6752|         91|           5715|\n",
      "|            Austria|      15402|        580|          12779|\n",
      "|         Azerbaijan|       1766|         23|           1267|\n",
      "|            Bahamas|         80|         11|             23|\n",
      "|            Bahrain|       2921|          8|           1455|\n",
      "|         Bangladesh|       7103|        163|            150|\n",
      "|           Barbados|         80|          7|             39|\n",
      "|            Belarus|      13181|         84|           2072|\n",
      "|            Belgium|      47859|       7501|          11283|\n",
      "|             Belize|         18|          2|              9|\n",
      "|              Benin|         64|          1|             33|\n",
      "|             Bhutan|          7|          0|              5|\n",
      "+-------------------+-----------+-----------+---------------+\n",
      "only showing top 20 rows\n",
      "\n"
     ]
    }
   ],
   "source": [
    "df1.show()"
   ]
  },
  {
   "cell_type": "markdown",
   "metadata": {},
   "source": [
    "## Q2. In which region maximum number of case were recorded"
   ]
  },
  {
   "cell_type": "code",
   "execution_count": 66,
   "metadata": {},
   "outputs": [],
   "source": [
    "df2 = covid_df.select(\"Region\",\"Confirmed\").groupBy(\"Region\").sum(\"Confirmed\").withColumnRenamed(\"sum(Confirmed)\",\"Number_of_Cases\").orderBy(\"Number_of_Cases\",ascending=False)"
   ]
  },
  {
   "cell_type": "code",
   "execution_count": 68,
   "metadata": {},
   "outputs": [
    {
     "data": {
      "text/plain": [
       "[Row(Region='US', Number_of_Cases=1039909)]"
      ]
     },
     "execution_count": 68,
     "metadata": {},
     "output_type": "execute_result"
    }
   ],
   "source": [
    "df2.take(1)"
   ]
  },
  {
   "cell_type": "markdown",
   "metadata": {},
   "source": [
    "## Q3. In which region maximum number of deaths were recorded"
   ]
  },
  {
   "cell_type": "code",
   "execution_count": 70,
   "metadata": {},
   "outputs": [],
   "source": [
    "df3 = covid_df.select(\"Region\",\"Deaths\").groupBy(\"Region\").sum(\"Deaths\").withColumnRenamed(\"sum(Deaths)\",\"Number_of_Deaths\").orderBy(\"Number_of_Deaths\",ascending=False)"
   ]
  },
  {
   "cell_type": "code",
   "execution_count": 71,
   "metadata": {},
   "outputs": [
    {
     "data": {
      "text/plain": [
       "[Row(Region='US', Number_of_Deaths=60967)]"
      ]
     },
     "execution_count": 71,
     "metadata": {},
     "output_type": "execute_result"
    }
   ],
   "source": [
    "df3.take(1)"
   ]
  },
  {
   "cell_type": "markdown",
   "metadata": {},
   "source": [
    "## Q4. Show number of confiremed, death and recovered cases for PAK till April 29, 2020"
   ]
  },
  {
   "cell_type": "code",
   "execution_count": 88,
   "metadata": {},
   "outputs": [
    {
     "name": "stdout",
     "output_type": "stream",
     "text": [
      "+--------+-----------+-----------+---------------+\n",
      "|  Region|Total_Cases|Death_Cases|Recovered_Cases|\n",
      "+--------+-----------+-----------+---------------+\n",
      "|Pakistan|      15525|        343|           3425|\n",
      "+--------+-----------+-----------+---------------+\n",
      "\n"
     ]
    }
   ],
   "source": [
    "df4 = covid_df.select(\"Region\",\"Confirmed\",\"Deaths\",\"Recovered\").filter(covid_df.Region == \"Pakistan\").groupBy(\"Region\").sum(\"Confirmed\",\"Deaths\",\"Recovered\").withColumnRenamed(\"sum(Confirmed)\",\"Total_Cases\").withColumnRenamed(\"sum(Deaths)\",\"Death_Cases\").withColumnRenamed(\"sum(Recovered)\",\"Recovered_Cases\")\n",
    "df4.show()"
   ]
  },
  {
   "cell_type": "markdown",
   "metadata": {},
   "source": [
    "## Q5. Filter records with confiremed cases less than 10"
   ]
  },
  {
   "cell_type": "code",
   "execution_count": 86,
   "metadata": {},
   "outputs": [
    {
     "name": "stdout",
     "output_type": "stream",
     "text": [
      "+----+--------------------+--------------------+---------+------+---------+\n",
      "|Date|               State|              Region|Confirmed|Deaths|Recovered|\n",
      "+----+--------------------+--------------------+---------+------+---------+\n",
      "|null|                null|              Bhutan|        7|     0|        5|\n",
      "|null|                null|          MS Zaandam|        9|     2|        0|\n",
      "|null|                null|          Mauritania|        8|     1|        6|\n",
      "|null|                null|    Papua New Guinea|        8|     0|        0|\n",
      "|null|                null|Sao Tome and Prin...|        8|     0|        4|\n",
      "|null|                null|      Western Sahara|        6|     0|        5|\n",
      "|null|                null|               Yemen|        6|     0|        1|\n",
      "|null|            Anguilla|                  UK|        3|     0|        3|\n",
      "|null|Bonaire, Sint Eus...|         Netherlands|        5|     0|        0|\n",
      "|null|British Virgin Is...|                  UK|        6|     1|        3|\n",
      "|null|Diamond Princess ...|              Canada|        0|     1|        0|\n",
      "|null|Northwest Territo...|              Canada|        5|     0|        0|\n",
      "|null|           Recovered|              Canada|        0|     0|    20327|\n",
      "|null|           Recovered|                  US|        0|     0|   120720|\n",
      "|null|    Saint Barthelemy|              France|        6|     0|        6|\n",
      "|null|Saint Pierre and ...|              France|        1|     0|        0|\n",
      "|null|               Tibet|      Mainland China|        1|     0|        1|\n",
      "+----+--------------------+--------------------+---------+------+---------+\n",
      "\n"
     ]
    }
   ],
   "source": [
    "df5 = covid_df[covid_df.Confirmed < 10]\n",
    "df5.show()"
   ]
  }
 ],
 "metadata": {
  "kernelspec": {
   "display_name": "Python 3",
   "language": "python",
   "name": "python3"
  },
  "language_info": {
   "codemirror_mode": {
    "name": "ipython",
    "version": 3
   },
   "file_extension": ".py",
   "mimetype": "text/x-python",
   "name": "python",
   "nbconvert_exporter": "python",
   "pygments_lexer": "ipython3",
   "version": "3.8.5"
  }
 },
 "nbformat": 4,
 "nbformat_minor": 4
}
